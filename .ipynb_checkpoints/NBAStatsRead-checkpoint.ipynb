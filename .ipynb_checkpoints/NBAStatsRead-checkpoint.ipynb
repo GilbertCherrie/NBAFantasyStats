{
 "cells": [
  {
   "cell_type": "code",
   "execution_count": null,
   "metadata": {},
   "outputs": [],
   "source": [
    "pip install mysql-connector-python"
   ]
  },
  {
   "cell_type": "code",
   "execution_count": null,
   "metadata": {},
   "outputs": [],
   "source": [
    "import mysql.connector\n",
    "#COnnect to the SQL server and show all databases\n",
    "mydb = mysql.connector.connect(\n",
    "  host=\"localhost\", #Leave as localhost for localserver\n",
    "  user=\"root\",\n",
    "  passwd=\"\",\n",
    "  database = \"players\" #Database name\n",
    ")"
   ]
  },
  {
   "cell_type": "code",
   "execution_count": null,
   "metadata": {},
   "outputs": [],
   "source": [
    "Teams = [\"MIL\",\"TOR\",\"GSW\",\"DEN\",\"HOU\",\"PHI\",\"POR\",\"UTA\",\"BOS\",\"OKC\",\"IND\",\n",
    "         \"LAC\",\"SAS\",\"BKN\",\"ORL\",\"DET\",\"CHA\",\"MIA\",\"SAC\",\"LAL\",\"MIN\",\n",
    "         \"DAL\",\"MEM\",\"NOP\",\"WAS\",\"ATL\",\"CHI\",\"CLE\",\"PHX\",\"NYK\"]\n",
    "predictedStandings = []\n",
    "players = []\n",
    "playersTemp = []\n",
    "playersTeam = []\n",
    "for Team in Teams:\n",
    "    playersTemp = []\n",
    "    playersTeam = []\n",
    "    cursor = mydb.cursor()\n",
    "    sql = \"SELECT * FROM nba20182019 WHERE Team = %s\" #SELECT * FROM TableName\n",
    "    team = (Team, )\n",
    "    cursor.execute(sql, team)\n",
    "    playersTemp = cursor.fetchall()\n",
    "    for player in playersTemp:\n",
    "        playersTemp2 = [player[2],player[1],player[-2]]\n",
    "        playersTeam.append(playersTemp2)\n",
    "    players.append(playersTeam)"
   ]
  },
  {
   "cell_type": "code",
   "execution_count": null,
   "metadata": {},
   "outputs": [],
   "source": [
    "    def split(arr,low,high): \n",
    "    i = (low-1)         #Index of smaller element \n",
    "    splitPoint = arr[high][-1]     \n",
    "  \n",
    "    for j in range(low,high): \n",
    "        if   arr[j][-1] <= splitPoint: \n",
    "            # increment index of smaller element \n",
    "            i = i+1 \n",
    "            arr[i],arr[j] = arr[j],arr[i] \n",
    "  \n",
    "    arr[i+1],arr[high] = arr[high],arr[i+1] \n",
    "    return (i+1) \n",
    "\n",
    "def quickSort(arr,low,high): \n",
    "    if low < high: \n",
    "  \n",
    "        splitIndex = split(arr,low,high) \n",
    "        quickSort(arr, low, splitIndex-1) \n",
    "        quickSort(arr, splitIndex, high) "
   ]
  },
  {
   "cell_type": "code",
   "execution_count": null,
   "metadata": {},
   "outputs": [],
   "source": [
    "teamSize = 1\n",
    "numTeams = 30\n",
    "averageAccuracy = 30\n",
    "finalTeamSize = 1\n",
    "\n",
    "while teamSize < 16:\n",
    "    predictedStandings = []\n",
    "    accuracy = 0\n",
    "    for Team in players:\n",
    "        totalFER = 0\n",
    "        count = 0\n",
    "        \n",
    "        for count in range(teamSize):\n",
    "            totalFER = totalFER + Team[count][2]\n",
    "            \n",
    "        temp = [Team[0][0],totalFER]\n",
    "        predictedStandings.append(temp)\n",
    "        \n",
    "    quickSort(predictedStandings,0,29)\n",
    "    predictedStandings.reverse()\n",
    "    count = 1\n",
    "    \n",
    "    for Team in predictedStandings:\n",
    "        teamName = Team[0]\n",
    "        actualRank = Teams.index(teamName) + 1\n",
    "        rankDifference = actualRank - count\n",
    "        if rankDifference <= 0:\n",
    "            rankDifference = rankDifference * -1\n",
    "        accuracy = accuracy + rankDifference\n",
    "        count = count + 1\n",
    "        \n",
    "    averageAccuracyTemp = accuracy / numTeams\n",
    "    print(\"Team Size: \" + str(teamSize))\n",
    "    print(\"Average Accuracy: +/- \" + str(averageAccuracyTemp) + \" positions out of 30\")\n",
    "    print(predictedStandings)\n",
    "    if averageAccuracyTemp <= averageAccuracy:\n",
    "        averageAccuracy = averageAccuracyTemp\n",
    "        finalTeamSize = teamSize\n",
    "    teamSize = teamSize + 1\n",
    "    \n",
    "print(\"Most Accurate Team Size: \" + str(finalTeamSize))\n",
    "print(\"Average Accuracy: \" + str(100-averageAccuracy/numTeams*100) + \"% or +/- \" + str(averageAccuracy) + \" positions out of 30.\")"
   ]
  },
  {
   "cell_type": "code",
   "execution_count": null,
   "metadata": {},
   "outputs": [],
   "source": [
    "Teams = [\"MIL\",\"TOR\",\"GSW\",\"DEN\",\"HOU\",\"PHI\",\"POR\",\"UTA\",\"BOS\",\"OKC\",\"IND\",\n",
    "         \"LAC\",\"SAS\",\"BKN\",\"ORL\",\"DET\",\"CHA\",\"MIA\",\"SAC\",\"LAL\",\"MIN\",\n",
    "         \"DAL\",\"MEM\",\"NOP\",\"WAS\",\"ATL\",\"CHI\",\"CLE\",\"PHX\",\"NYK\"]\n",
    "predictedStandings = []\n",
    "players = []\n",
    "playersTemp = []\n",
    "playersTeam = []\n",
    "for Team in Teams:\n",
    "    playersTemp = []\n",
    "    playersTeam = []\n",
    "    cursor = mydb.cursor()\n",
    "    sql = \"SELECT * FROM nba20192020 WHERE Team = %s\"\n",
    "    team = (Team, )\n",
    "    cursor.execute(sql, team)\n",
    "    playersTemp = cursor.fetchall()\n",
    "\n",
    "    for player in playersTemp:\n",
    "        playersTemp2 = [player[2],player[1],player[-2]]\n",
    "        playersTeam.append(playersTemp2)\n",
    "    players.append(playersTeam)"
   ]
  },
  {
   "cell_type": "code",
   "execution_count": null,
   "metadata": {},
   "outputs": [],
   "source": [
    "teamSize = 2 #Use most accurate team size found in the last cell\n",
    "numTeams = 30\n",
    "predictedStandings = []\n",
    "for Team in players:\n",
    "    totalFER = 0\n",
    "    count = 0\n",
    "    for count in range(teamSize):\n",
    "        totalFER = totalFER + Team[count][2]\n",
    "    temp = [Team[0][0],totalFER]\n",
    "    predictedStandings.append(temp)\n",
    "quickSort(predictedStandings,0,29)\n",
    "predictedStandings.reverse()"
   ]
  },
  {
   "cell_type": "code",
   "execution_count": null,
   "metadata": {},
   "outputs": [],
   "source": [
    "predictedStandings"
   ]
  }
 ],
 "metadata": {
  "kernelspec": {
   "display_name": "Python 3",
   "language": "python",
   "name": "python3"
  },
  "language_info": {
   "codemirror_mode": {
    "name": "ipython",
    "version": 3
   },
   "file_extension": ".py",
   "mimetype": "text/x-python",
   "name": "python",
   "nbconvert_exporter": "python",
   "pygments_lexer": "ipython3",
   "version": "3.7.6"
  }
 },
 "nbformat": 4,
 "nbformat_minor": 2
}
