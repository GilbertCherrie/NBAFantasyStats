{
 "cells": [
  {
   "cell_type": "code",
   "execution_count": 535,
   "metadata": {},
   "outputs": [
    {
     "name": "stdout",
     "output_type": "stream",
     "text": [
      "Requirement already satisfied: mysql-connector-python in c:\\users\\codfa\\anaconda3\\envs\\new\\lib\\site-packages (8.0.16)\n",
      "Requirement already satisfied: protobuf>=3.0.0 in c:\\users\\codfa\\anaconda3\\envs\\new\\lib\\site-packages (from mysql-connector-python) (3.6.0)\n",
      "Requirement already satisfied: six>=1.9 in c:\\users\\codfa\\anaconda3\\envs\\new\\lib\\site-packages (from protobuf>=3.0.0->mysql-connector-python) (1.12.0)\n",
      "Requirement already satisfied: setuptools in c:\\users\\codfa\\anaconda3\\envs\\new\\lib\\site-packages (from protobuf>=3.0.0->mysql-connector-python) (41.0.1)\n",
      "Note: you may need to restart the kernel to use updated packages.\n"
     ]
    }
   ],
   "source": [
    "pip install mysql-connector-python"
   ]
  },
  {
   "cell_type": "code",
   "execution_count": 536,
   "metadata": {},
   "outputs": [
    {
     "name": "stdout",
     "output_type": "stream",
     "text": [
      "<mysql.connector.connection.MySQLConnection object at 0x000001C7A6D45C48>\n",
      "('information_schema',)\n",
      "('mysql',)\n",
      "('performance_schema',)\n",
      "('phpmyadmin',)\n",
      "('players',)\n",
      "('test',)\n"
     ]
    }
   ],
   "source": [
    "import mysql.connector\n",
    "#COnnect to the SQL server and show all databases\n",
    "mydb = mysql.connector.connect(\n",
    "  host=\"localhost\",\n",
    "  user=\"root\",\n",
    "  passwd=\"\",\n",
    "  database = \"players\"\n",
    ")\n",
    "\n",
    "print(mydb)\n",
    "cursor = mydb.cursor()\n",
    "cursor.execute(\"SHOW DATABASES\")\n",
    "databases = cursor.fetchall() \n",
    "for database in databases:\n",
    "    print(database)"
   ]
  },
  {
   "cell_type": "code",
   "execution_count": 537,
   "metadata": {},
   "outputs": [],
   "source": [
    "Teams = [\"MIL\",\"TOR\",\"GSW\",\"DEN\",\"HOU\",\"PHI\",\"POR\",\"UTA\",\"BOS\",\"OKC\",\"IND\",\n",
    "         \"LAC\",\"SAS\",\"BKN\",\"ORL\",\"DET\",\"CHA\",\"MIA\",\"SAC\",\"LAL\",\"MIN\",\n",
    "         \"DAL\",\"MEM\",\"NOP\",\"WAS\",\"ATL\",\"CHI\",\"CLE\",\"PHX\",\"NYK\"]\n",
    "predictedStandings = []\n",
    "players = []\n",
    "playersTemp = []\n",
    "playersTeam = []\n",
    "for Team in Teams:\n",
    "    playersTemp = []\n",
    "    playersTeam = []\n",
    "    cursor = mydb.cursor()\n",
    "    sql = \"SELECT * FROM nba20182019 WHERE Team = %s\"\n",
    "    team = (Team, )\n",
    "    cursor.execute(sql, team)\n",
    "    playersTemp = cursor.fetchall()\n",
    "    for player in playersTemp:\n",
    "        playersTemp2 = [player[2],player[1],player[-2]]\n",
    "        playersTeam.append(playersTemp2)\n",
    "    players.append(playersTeam)"
   ]
  },
  {
   "cell_type": "code",
   "execution_count": 538,
   "metadata": {},
   "outputs": [],
   "source": [
    "def bubbleSort(arr):\n",
    "    n = len(arr)\n",
    " \n",
    "    # Traverse through all list elements\n",
    "    for i in range(n):\n",
    " \n",
    "        # Last i elements are already in place\n",
    "        for j in range(0, n-i-1):\n",
    " \n",
    "            # traverse the list from 0 to n-i-1\n",
    "            # Swap if the element found is greater\n",
    "            # than the next element\n",
    "            if arr[j][-1] < arr[j+1][-1]:\n",
    "                arr[j], arr[j+1] = arr[j+1], arr[j]"
   ]
  },
  {
   "cell_type": "code",
   "execution_count": 539,
   "metadata": {},
   "outputs": [
    {
     "name": "stdout",
     "output_type": "stream",
     "text": [
      "Team Size: 1\n",
      "Average Accuracy: +/- 6.2 positions out of 30\n",
      "[['HOU', 195.558], ['NOP', 193.813], ['OKC', 183.058], ['GSW', 180.761], ['BOS', 165.806], ['MIL', 164.127], ['MIN', 163.933], ['PHI', 161.409], ['POR', 160.948], ['WAS', 157.289], ['LAL', 157.159], ['CHA', 156.791], ['TOR', 156.247], ['DEN', 156.162], ['ORL', 155.673], ['UTA', 153.553], ['IND', 153.295], ['DET', 152.51], ['MEM', 149.792], ['BKN', 141.024], ['SAC', 140.157], ['CHI', 137.149], ['MIA', 135.963], ['LAC', 135.778], ['DAL', 133.371], ['NYK', 132.75], ['SAS', 132.491], ['ATL', 132.432], ['PHX', 130.193], ['CLE', 126.977]]\n",
      "Team Size: 2\n",
      "Average Accuracy: +/- 5.733333333333333 positions out of 30\n",
      "[['HOU', 354.509], ['NOP', 348.202], ['OKC', 347.538], ['GSW', 333.861], ['MIN', 322.538], ['MIL', 317.142], ['PHI', 310.118], ['BOS', 309.48900000000003], ['TOR', 309.059], ['WAS', 299.961], ['POR', 294.659], ['IND', 293.773], ['UTA', 289.002], ['CHA', 286.04499999999996], ['DEN', 285.992], ['DET', 284.936], ['ORL', 282.39], ['LAL', 276.59], ['MEM', 276.39300000000003], ['SAC', 274.365], ['CHI', 273.798], ['BKN', 259.452], ['SAS', 258.32800000000003], ['PHX', 256.029], ['MIA', 255.613], ['LAC', 255.44799999999998], ['ATL', 254.27999999999997], ['CLE', 252.683], ['NYK', 251.941], ['DAL', 251.431]]\n",
      "Team Size: 3\n",
      "Average Accuracy: +/- 6.0 positions out of 30\n",
      "[['HOU', 489.15700000000004], ['GSW', 478.332], ['OKC', 473.171], ['NOP', 466.845], ['MIL', 453.74], ['TOR', 448.61400000000003], ['BOS', 446.52600000000007], ['MIN', 445.03000000000003], ['PHI', 442.229], ['WAS', 430.444], ['POR', 425.703], ['IND', 419.273], ['UTA', 413.353], ['CHA', 411.8589999999999], ['CHI', 410.404], ['DEN', 408.115], ['ORL', 406.849], ['DET', 400.11699999999996], ['MEM', 395.18300000000005], ['SAC', 394.271], ['LAL', 390.62199999999996], ['PHX', 379.419], ['SAS', 375.59700000000004], ['LAC', 373.96299999999997], ['BKN', 372.044], ['ATL', 371.508], ['MIA', 365.43399999999997], ['NYK', 362.206], ['CLE', 361.61], ['DAL', 360.80400000000003]]\n",
      "Team Size: 4\n",
      "Average Accuracy: +/- 6.0 positions out of 30\n",
      "[['GSW', 620.386], ['HOU', 611.4580000000001], ['OKC', 588.94], ['MIL', 588.377], ['NOP', 582.927], ['TOR', 576.832], ['BOS', 575.902], ['PHI', 571.351], ['MIN', 561.561], ['WAS', 545.642], ['POR', 542.61], ['IND', 534.952], ['CHA', 534.67], ['CHI', 533.138], ['UTA', 531.962], ['ORL', 529.467], ['DEN', 518.714], ['DET', 512.4889999999999], ['SAC', 509.472], ['MEM', 508.00000000000006], ['LAL', 503.57899999999995], ['PHX', 500.959], ['SAS', 490.442], ['LAC', 489.681], ['ATL', 486.24899999999997], ['BKN', 481.548], ['MIA', 474.731], ['NYK', 469.673], ['CLE', 469.58500000000004], ['DAL', 467.377]]\n",
      "Team Size: 5\n",
      "Average Accuracy: +/- 6.2 positions out of 30\n",
      "[['GSW', 755.194], ['HOU', 730.5930000000001], ['MIL', 718.707], ['BOS', 702.8620000000001], ['TOR', 701.182], ['OKC', 697.796], ['PHI', 696.748], ['NOP', 684.445], ['MIN', 674.1600000000001], ['WAS', 657.129], ['CHI', 655.145], ['POR', 650.273], ['UTA', 649.4], ['IND', 646.999], ['CHA', 646.305], ['ORL', 643.066], ['DEN', 627.7520000000001], ['SAC', 623.449], ['PHX', 621.407], ['MEM', 618.9530000000001], ['LAL', 615.016], ['DET', 611.2689999999999], ['SAS', 601.152], ['ATL', 598.4], ['LAC', 597.491], ['BKN', 591.015], ['MIA', 583.106], ['NYK', 572.475], ['CLE', 569.5550000000001], ['DAL', 565.254]]\n",
      "Team Size: 6\n",
      "Average Accuracy: +/- 6.133333333333334 positions out of 30\n",
      "[['GSW', 859.6809999999999], ['MIL', 841.409], ['HOU', 840.238], ['TOR', 822.912], ['BOS', 818.878], ['OKC', 800.5250000000001], ['PHI', 792.2610000000001], ['NOP', 785.825], ['MIN', 785.0840000000001], ['CHI', 776.577], ['WAS', 767.768], ['UTA', 762.3389999999999], ['IND', 756.015], ['ORL', 755.332], ['POR', 753.907], ['CHA', 746.967], ['SAC', 735.7239999999999], ['DEN', 735.253], ['PHX', 731.784], ['MEM', 729.7220000000001], ['LAL', 726.0319999999999], ['SAS', 710.87], ['DET', 707.8789999999999], ['ATL', 704.5799999999999], ['LAC', 700.35], ['BKN', 690.393], ['MIA', 690.073], ['NYK', 675.075], ['CLE', 664.98], ['DAL', 661.423]]\n",
      "Team Size: 7\n",
      "Average Accuracy: +/- 6.333333333333333 positions out of 30\n",
      "[['GSW', 956.7969999999999], ['HOU', 946.452], ['TOR', 944.0840000000001], ['MIL', 942.006], ['BOS', 931.1120000000001], ['OKC', 899.9560000000001], ['CHI', 889.697], ['MIN', 889.219], ['NOP', 884.8380000000001], ['PHI', 883.6650000000001], ['WAS', 878.089], ['IND', 860.17], ['POR', 856.7470000000001], ['UTA', 856.631], ['ORL', 848.287], ['SAC', 841.117], ['DEN', 840.787], ['CHA', 840.639], ['MEM', 839.5610000000001], ['LAL', 836.5479999999999], ['PHX', 835.453], ['SAS', 817.112], ['ATL', 802.7429999999999], ['DET', 800.8619999999999], ['LAC', 800.232], ['MIA', 796.172], ['BKN', 788.846], ['NYK', 776.307], ['CLE', 758.511], ['DAL', 755.101]]\n",
      "Team Size: 8\n",
      "Average Accuracy: +/- 6.866666666666666 positions out of 30\n",
      "[['GSW', 1051.59], ['HOU', 1048.255], ['BOS', 1041.8410000000001], ['MIL', 1038.48], ['TOR', 1037.337], ['CHI', 993.5889999999999], ['MIN', 992.3430000000001], ['OKC', 990.6800000000002], ['WAS', 978.6400000000001], ['NOP', 973.9110000000001], ['PHI', 968.9010000000001], ['IND', 963.9019999999999], ['POR', 947.2030000000001], ['UTA', 947.054], ['DEN', 942.022], ['LAL', 940.4209999999999], ['MEM', 938.8890000000001], ['SAC', 938.353], ['PHX', 934.8919999999999], ['ORL', 932.751], ['CHA', 930.511], ['SAS', 918.583], ['LAC', 900.093], ['ATL', 900.0809999999999], ['MIA', 891.662], ['DET', 886.3169999999999], ['BKN', 885.223], ['NYK', 876.8530000000001], ['CLE', 846.405], ['DAL', 844.644]]\n",
      "Team Size: 9\n",
      "Average Accuracy: +/- 7.333333333333333 positions out of 30\n",
      "[['HOU', 1149.038], ['GSW', 1144.9569999999999], ['BOS', 1143.0100000000002], ['MIL', 1130.281], ['TOR', 1130.106], ['MIN', 1090.087], ['CHI', 1087.388], ['OKC', 1077.65], ['WAS', 1070.395], ['NOP', 1061.679], ['IND', 1054.1879999999999], ['PHI', 1052.132], ['LAL', 1044.2669999999998], ['POR', 1037.564], ['MEM', 1032.5110000000002], ['DEN', 1032.171], ['PHX', 1031.687], ['UTA', 1029.141], ['SAC', 1026.8329999999999], ['CHA', 1016.904], ['ORL', 1016.562], ['SAS', 1007.049], ['LAC', 995.3119999999999], ['ATL', 994.4699999999999], ['MIA', 984.148], ['BKN', 975.861], ['NYK', 970.8040000000001], ['DET', 967.7889999999999], ['CLE', 932.3249999999999], ['DAL', 931.75]]\n",
      "Team Size: 10\n",
      "Average Accuracy: +/- 7.733333333333333 positions out of 30\n",
      "[['HOU', 1242.567], ['GSW', 1236.1639999999998], ['BOS', 1235.8100000000002], ['MIL', 1222.0349999999999], ['TOR', 1220.646], ['MIN', 1184.031], ['CHI', 1176.144], ['WAS', 1161.902], ['OKC', 1160.5710000000001], ['NOP', 1145.8380000000002], ['LAL', 1144.4329999999998], ['IND', 1137.36], ['PHI', 1135.2820000000002], ['MEM', 1126.073], ['POR', 1125.141], ['PHX', 1121.606], ['DEN', 1120.346], ['SAC', 1113.417], ['UTA', 1106.4270000000001], ['CHA', 1102.809], ['ORL', 1097.539], ['LAC', 1087.4379999999999], ['ATL', 1086.8249999999998], ['SAS', 1086.749], ['MIA', 1073.746], ['BKN', 1064.452], ['NYK', 1060.142], ['DET', 1044.4219999999998], ['DAL', 1018.777], ['CLE', 1015.7769999999999]]\n",
      "Team Size: 11\n",
      "Average Accuracy: +/- 7.8 positions out of 30\n",
      "[['HOU', 1335.6390000000001], ['BOS', 1325.0170000000003], ['GSW', 1318.3749999999998], ['MIL', 1312.5919999999999], ['TOR', 1307.54], ['MIN', 1272.955], ['CHI', 1252.113], ['LAL', 1243.9169999999997], ['WAS', 1243.444], ['OKC', 1231.13], ['NOP', 1228.9990000000003], ['IND', 1220.061], ['PHI', 1217.2690000000002], ['MEM', 1213.0700000000002], ['POR', 1212.006], ['PHX', 1205.051], ['DEN', 1204.946], ['SAC', 1190.12], ['CHA', 1183.473], ['UTA', 1181.6530000000002], ['ORL', 1176.202], ['ATL', 1167.3249999999998], ['LAC', 1166.9279999999999], ['MIA', 1162.212], ['SAS', 1155.45], ['BKN', 1150.958], ['NYK', 1148.757], ['DET', 1115.4249999999997], ['DAL', 1101.409], ['CLE', 1098.414]]\n",
      "Team Size: 12\n",
      "Average Accuracy: +/- 8.066666666666666 positions out of 30\n",
      "[['HOU', 1419.804], ['BOS', 1411.7550000000003], ['MIL', 1400.588], ['GSW', 1400.1269999999997], ['TOR', 1388.022], ['MIN', 1358.107], ['LAL', 1339.9409999999998], ['CHI', 1325.554], ['WAS', 1323.549], ['NOP', 1311.8320000000003], ['IND', 1298.972], ['PHI', 1298.8930000000003], ['OKC', 1297.9830000000002], ['MEM', 1296.919], ['POR', 1296.689], ['PHX', 1285.125], ['DEN', 1270.168], ['SAC', 1266.4679999999998], ['CHA', 1263.618], ['UTA', 1255.9900000000002], ['ORL', 1254.334], ['ATL', 1242.2199999999998], ['BKN', 1235.7920000000001], ['NYK', 1234.38], ['LAC', 1230.264], ['MIA', 1227.328], ['SAS', 1223.56], ['DET', 1186.1029999999996], ['DAL', 1181.14], ['CLE', 1179.744]]\n",
      "Team Size: 13\n",
      "Average Accuracy: +/- 8.266666666666667 positions out of 30\n",
      "[['HOU', 1493.855], ['BOS', 1488.6850000000004], ['MIL', 1486.72], ['GSW', 1480.1689999999996], ['TOR', 1467.0749999999998], ['MIN', 1441.5729999999999], ['LAL', 1422.6529999999998], ['WAS', 1402.744], ['CHI', 1398.4640000000002], ['NOP', 1390.8380000000004], ['PHI', 1379.8440000000003], ['MEM', 1378.372], ['IND', 1365.285], ['PHX', 1361.954], ['OKC', 1359.0890000000002], ['POR', 1356.184], ['CHA', 1343.322], ['SAC', 1340.9519999999998], ['UTA', 1330.2810000000002], ['DEN', 1323.6519999999998], ['ORL', 1323.394], ['BKN', 1319.027], ['NYK', 1316.871], ['ATL', 1316.8039999999999], ['MIA', 1290.008], ['LAC', 1288.097], ['SAS', 1287.269], ['CLE', 1258.021], ['DAL', 1253.613], ['DET', 1253.2619999999997]]\n",
      "Team Size: 14\n",
      "Average Accuracy: +/- 8.733333333333333 positions out of 30\n",
      "[['MIL', 1571.35], ['HOU', 1564.928], ['GSW', 1554.8189999999997], ['BOS', 1548.8460000000005], ['TOR', 1544.0979999999997], ['MIN', 1520.0859999999998], ['LAL', 1504.8319999999999], ['WAS', 1478.388], ['CHI', 1470.0760000000002], ['NOP', 1468.2870000000005], ['PHI', 1460.1440000000002], ['MEM', 1457.94], ['PHX', 1432.627], ['IND', 1425.911], ['CHA', 1422.7859999999998], ['OKC', 1417.8400000000001], ['SAC', 1409.5739999999998], ['POR', 1406.132], ['UTA', 1404.4530000000002], ['NYK', 1399.2340000000002], ['ATL', 1389.5629999999999], ['BKN', 1389.512], ['ORL', 1383.933], ['DEN', 1375.5929999999998], ['MIA', 1349.384], ['LAC', 1342.61], ['SAS', 1341.4180000000001], ['CLE', 1335.1499999999999], ['DAL', 1325.338], ['DET', 1317.1849999999997]]\n",
      "Team Size: 15\n",
      "Average Accuracy: +/- 9.4 positions out of 30\n",
      "[['MIL', 1652.991], ['HOU', 1635.6370000000002], ['GSW', 1624.6059999999998], ['TOR', 1611.7429999999997], ['BOS', 1608.6310000000005], ['MIN', 1596.6799999999998], ['LAL', 1580.3709999999999], ['WAS', 1551.405], ['NOP', 1542.7140000000004], ['PHI', 1539.1150000000002], ['CHI', 1537.6960000000004], ['MEM', 1536.522], ['CHA', 1501.8839999999998], ['PHX', 1495.336], ['NYK', 1481.0500000000002], ['SAC', 1476.3509999999999], ['IND', 1468.921], ['UTA', 1468.2880000000002], ['ATL', 1455.069], ['POR', 1454.5910000000001], ['BKN', 1450.796], ['OKC', 1434.092], ['DEN', 1423.032], ['ORL', 1418.1009999999999], ['CLE', 1408.578], ['MIA', 1403.728], ['LAC', 1396.8719999999998], ['DAL', 1377.237], ['DET', 1374.5689999999997], ['SAS', 1358.883]]\n",
      "Most Accurate Team Size: 2\n",
      "Average Accuracy: 80.88888888888889% or +/- 5.733333333333333 positions out of 30.\n"
     ]
    }
   ],
   "source": [
    "teamSize = 1\n",
    "numTeams = 30\n",
    "averageAccuracy = 30\n",
    "finalTeamSize = 1\n",
    "\n",
    "while teamSize < 16:\n",
    "    predictedStandings = []\n",
    "    accuracy = 0\n",
    "    for Team in players:\n",
    "        totalFER = 0\n",
    "        count = 0\n",
    "        \n",
    "        for count in range(teamSize):\n",
    "            totalFER = totalFER + Team[count][2]\n",
    "            \n",
    "        temp = [Team[0][0],totalFER]\n",
    "        predictedStandings.append(temp)\n",
    "        \n",
    "    bubbleSort(predictedStandings)\n",
    "    count = 1\n",
    "    \n",
    "    for Team in predictedStandings:\n",
    "        teamName = Team[0]\n",
    "        actualRank = Teams.index(teamName) + 1\n",
    "        rankDifference = actualRank - count\n",
    "        if rankDifference <= 0:\n",
    "            rankDifference = rankDifference * -1\n",
    "        accuracy = accuracy + rankDifference\n",
    "        count = count + 1\n",
    "        \n",
    "    averageAccuracyTemp = accuracy / numTeams\n",
    "    print(\"Team Size: \" + str(teamSize))\n",
    "    print(\"Average Accuracy: +/- \" + str(averageAccuracyTemp) + \" positions out of 30\")\n",
    "    print(predictedStandings)\n",
    "    if averageAccuracyTemp <= averageAccuracy:\n",
    "        averageAccuracy = averageAccuracyTemp\n",
    "        finalTeamSize = teamSize\n",
    "    teamSize = teamSize + 1\n",
    "    \n",
    "print(\"Most Accurate Team Size: \" + str(finalTeamSize))\n",
    "print(\"Average Accuracy: \" + str(100-averageAccuracy/numTeams*100) + \"% or +/- \" + str(averageAccuracy) + \" positions out of 30.\")"
   ]
  },
  {
   "cell_type": "code",
   "execution_count": 542,
   "metadata": {},
   "outputs": [],
   "source": [
    "Teams = [\"MIL\",\"TOR\",\"GSW\",\"DEN\",\"HOU\",\"PHI\",\"POR\",\"UTA\",\"BOS\",\"OKC\",\"IND\",\n",
    "         \"LAC\",\"SAS\",\"BKN\",\"ORL\",\"DET\",\"CHA\",\"MIA\",\"SAC\",\"LAL\",\"MIN\",\n",
    "         \"DAL\",\"MEM\",\"NOP\",\"WAS\",\"ATL\",\"CHI\",\"CLE\",\"PHX\",\"NYK\"]\n",
    "predictedStandings = []\n",
    "players = []\n",
    "playersTemp = []\n",
    "playersTeam = []\n",
    "for Team in Teams:\n",
    "    playersTemp = []\n",
    "    playersTeam = []\n",
    "    cursor = mydb.cursor()\n",
    "    sql = \"SELECT * FROM nba20192020 WHERE Team = %s\"\n",
    "    team = (Team, )\n",
    "    cursor.execute(sql, team)\n",
    "    playersTemp = cursor.fetchall()\n",
    "\n",
    "    for player in playersTemp:\n",
    "        playersTemp2 = [player[2],player[1],player[-2]]\n",
    "        playersTeam.append(playersTemp2)\n",
    "    players.append(playersTeam)"
   ]
  },
  {
   "cell_type": "code",
   "execution_count": 544,
   "metadata": {},
   "outputs": [],
   "source": [
    "teamSize = 2 #Use most accurate team size found in the last cell\n",
    "numTeams = 30\n",
    "predictedStandings = []\n",
    "for Team in players:\n",
    "    totalFER = 0\n",
    "    count = 0\n",
    "    for count in range(teamSize):\n",
    "        totalFER = totalFER + Team[count][2]\n",
    "    temp = [Team[0][0],totalFER]\n",
    "    predictedStandings.append(temp)\n",
    "bubbleSort(predictedStandings)"
   ]
  },
  {
   "cell_type": "code",
   "execution_count": 545,
   "metadata": {},
   "outputs": [
    {
     "data": {
      "text/plain": [
       "[['LAL', 353.14300000000003],\n",
       " ['HOU', 343.255],\n",
       " ['POR', 323.401],\n",
       " ['MIN', 319.671],\n",
       " ['DAL', 317.507],\n",
       " ['MIL', 316.24199999999996],\n",
       " ['TOR', 313.61699999999996],\n",
       " ['ORL', 313.478],\n",
       " ['LAC', 306.6],\n",
       " ['ATL', 305.786],\n",
       " ['BOS', 300.412],\n",
       " ['BKN', 294.706],\n",
       " ['NOP', 293.18899999999996],\n",
       " ['WAS', 292.27700000000004],\n",
       " ['PHI', 288.19100000000003],\n",
       " ['MIA', 285.80600000000004],\n",
       " ['GSW', 280.84000000000003],\n",
       " ['DEN', 280.27],\n",
       " ['DET', 279.368],\n",
       " ['CHA', 277.46799999999996],\n",
       " ['OKC', 275.403],\n",
       " ['PHX', 274.928],\n",
       " ['UTA', 272.745],\n",
       " ['SAS', 270.074],\n",
       " ['SAC', 266.28499999999997],\n",
       " ['IND', 265.443],\n",
       " ['CHI', 265.1],\n",
       " ['MEM', 261.913],\n",
       " ['NYK', 255.428],\n",
       " ['CLE', 236.877]]"
      ]
     },
     "execution_count": 545,
     "metadata": {},
     "output_type": "execute_result"
    }
   ],
   "source": [
    "predictedStandings"
   ]
  }
 ],
 "metadata": {
  "kernelspec": {
   "display_name": "Python 3",
   "language": "python",
   "name": "python3"
  },
  "language_info": {
   "codemirror_mode": {
    "name": "ipython",
    "version": 3
   },
   "file_extension": ".py",
   "mimetype": "text/x-python",
   "name": "python",
   "nbconvert_exporter": "python",
   "pygments_lexer": "ipython3",
   "version": "3.7.4"
  }
 },
 "nbformat": 4,
 "nbformat_minor": 2
}
