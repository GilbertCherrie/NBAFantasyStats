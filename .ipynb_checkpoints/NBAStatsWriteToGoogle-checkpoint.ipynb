{
 "cells": [
  {
   "cell_type": "code",
   "execution_count": null,
   "metadata": {},
   "outputs": [],
   "source": [
    "pip install nba_api"
   ]
  },
  {
   "cell_type": "code",
   "execution_count": null,
   "metadata": {
    "scrolled": true
   },
   "outputs": [],
   "source": [
    "from nba_api.stats.static import players\n",
    "nba_players = players.get_players()\n",
    "print('Number of players fetched: {}'.format(len(nba_players)))"
   ]
  },
  {
   "cell_type": "code",
   "execution_count": null,
   "metadata": {
    "scrolled": true
   },
   "outputs": [],
   "source": [
    "year = \"2019-20\" #Can change this to any specific season with format example: 2017-18\n",
    "name = \"\"\n",
    "fantasyStats = []\n",
    "count = 0\n",
    "from nba_api.stats.endpoints import playercareerstats\n",
    "playerIDs = []\n",
    "#Retieve every single NBA player ID for all past and present NBA players\n",
    "for player in nba_players:\n",
    "    playerIDs.append(str(player.get(\"id\")))\n",
    "len(playerIDs)"
   ]
  },
  {
   "cell_type": "code",
   "execution_count": null,
   "metadata": {},
   "outputs": [],
   "source": [
    "headers = {\n",
    "    'Host': 'stats.nba.com',\n",
    "    'User-Agent': 'Mozilla/5.0 (Windows NT 10.0; Win64; x64; rv:61.0) Gecko/20100101 Firefox/61.0',\n",
    "    'Accept': 'application/json, text/plain, */*',\n",
    "    'Accept-Language': 'en-US,en;q=0.5',\n",
    "    'Referer': 'https://stats.nba.com/',\n",
    "    'Accept-Encoding': 'gzip, deflate, br',\n",
    "    'Connection': 'keep-alive',\n",
    "} #Headers for the player stats api call"
   ]
  },
  {
   "cell_type": "code",
   "execution_count": null,
   "metadata": {},
   "outputs": [],
   "source": [
    "#Compiles the player stats for a specific season for each player\n",
    "def stats(player,count):\n",
    "    career = playercareerstats.PlayerCareerStats(player_id=playerIDs[player])\n",
    "    careerdict = career.get_dict()\n",
    "    fantasyStatsTemp = []\n",
    "    Team = \"\"\n",
    "    GP = 0\n",
    "    PPG = 0\n",
    "    APG = 0\n",
    "    RPG = 0\n",
    "    BPG = 0\n",
    "    TOPG = 0\n",
    "    FGPercent = 0\n",
    "    FTPercent = 0\n",
    "    ThreesPG = 0\n",
    "    FER = 0 \n",
    "    #These are weights calculated based on previous fantasy stats data to represent the importance or weight of each stat in fasntasy basketball\n",
    "    APGWeight = 5.02\n",
    "    RPGWeight = 2.7\n",
    "    SPGWeight = 17.41\n",
    "    BPGWeight = 19.19\n",
    "    ThreesPGWeight = 10.27\n",
    "    FGPercentWeight = 30.271\n",
    "    FTPercentWeight = 48.803\n",
    "    TOPGWeight = -10.44\n",
    "    \n",
    "    for key in careerdict:\n",
    "        if key == \"resultSets\":\n",
    "            item = careerdict[\"resultSets\"]\n",
    "        \n",
    "    for key2 in item[0]:\n",
    "        if key2 == \"rowSet\":\n",
    "            newItem = item[0]\n",
    "            seasons = newItem[\"rowSet\"]\n",
    "            for season in seasons:\n",
    "                if season[1] == year:\n",
    "                    for player in nba_players:\n",
    "                        if player.get(\"id\") == season[0]:\n",
    "                            name = player.get(\"full_name\")\n",
    "                    #Retrieve relevant player data and append into a temporary list which is then appended to a 2D list with other players\n",
    "                    Team = season[4]\n",
    "                    GP = season[6]\n",
    "                    PPG = season[26]/GP\n",
    "                    APG = season[21]/GP\n",
    "                    RPG = season[20]/GP\n",
    "                    SPG = season[22]/GP\n",
    "                    BPG = season[23]/GP\n",
    "                    TOPG = season[24]/GP\n",
    "                    FGPercent = season[11]\n",
    "                    FTPercent = season[17]\n",
    "                    ThreesPG = season[12]/GP\n",
    "                    FER = PPG + APG * APGWeight + RPG * RPGWeight + SPG * SPGWeight + BPG * BPGWeight + ThreesPG * ThreesPGWeight + FGPercent * FGPercentWeight + FTPercent * FTPercentWeight + TOPG * TOPGWeight\n",
    "                    fantasyStatsTemp.append(name)\n",
    "                    fantasyStatsTemp.append(Team)\n",
    "                    fantasyStatsTemp.append(GP)\n",
    "                    fantasyStatsTemp.append(PPG)\n",
    "                    fantasyStatsTemp.append(APG)\n",
    "                    fantasyStatsTemp.append(RPG)\n",
    "                    fantasyStatsTemp.append(SPG)\n",
    "                    fantasyStatsTemp.append(BPG)\n",
    "                    fantasyStatsTemp.append(TOPG)\n",
    "                    fantasyStatsTemp.append(FGPercent)\n",
    "                    fantasyStatsTemp.append(FTPercent)\n",
    "                    fantasyStatsTemp.append(ThreesPG)\n",
    "                    fantasyStatsTemp.append(FER)\n",
    "                    fantasyStats.append(fantasyStatsTemp)"
   ]
  },
  {
   "cell_type": "code",
   "execution_count": null,
   "metadata": {},
   "outputs": [],
   "source": [
    "for count in range(len(playerIDs)):\n",
    "    stats(count,count)\n",
    "    playerIDs.remove(playerIDs[count])\n",
    "    print(len(playerIDs))"
   ]
  },
  {
   "cell_type": "code",
   "execution_count": null,
   "metadata": {},
   "outputs": [],
   "source": [
    "len(fantasyStats)"
   ]
  },
  {
   "cell_type": "code",
   "execution_count": null,
   "metadata": {},
   "outputs": [],
   "source": [
    "len(playerIDs) #When this list is empty that means all players from that season were added to the fantasyStats list"
   ]
  },
  {
   "cell_type": "code",
   "execution_count": null,
   "metadata": {},
   "outputs": [],
   "source": [
    "count = -1\n",
    "size = len(fantasyStats)-1\n",
    "\n",
    "#Loop through the fantasyStats list and check for players with multiple entries per season due to trade\n",
    "for player in fantasyStats:\n",
    "    count += 1\n",
    "    if player[-12] == \"TOT\":\n",
    "        Totals = []\n",
    "        Totals.append(player[-13])\n",
    "        Totals.append(player[-25])\n",
    "        Totals.append(player[-11])\n",
    "        Totals.append(player[-10])\n",
    "        Totals.append(player[-9])\n",
    "        Totals.append(player[-8])\n",
    "        Totals.append(player[-7])\n",
    "        Totals.append(player[-6])\n",
    "        Totals.append(player[-5])\n",
    "        Totals.append(player[-4])\n",
    "        Totals.append(player[-3])\n",
    "        Totals.append(player[-2])\n",
    "        Totals.append(player[-1])\n",
    "        fantasyStats.remove(fantasyStats[count])\n",
    "        fantasyStats.append(Totals)#Append the players totals with his last team of the season and remove the previous entry\n",
    "\n",
    "count = 0\n",
    "for count in range(size-1):\n",
    "    if fantasyStats[count][0] == fantasyStats[count+1][0]:\n",
    "        fantasyStats.remove(fantasyStats[count])\n",
    "        count = count - 1\n",
    "        \n",
    "len(fantasyStats)"
   ]
  },
  {
   "cell_type": "code",
   "execution_count": null,
   "metadata": {},
   "outputs": [],
   "source": [
    "def split(arr,low,high): \n",
    "    i = (low-1)         #Index of smaller element \n",
    "    splitPoint = arr[high][-1]     \n",
    "  \n",
    "    for j in range(low,high): \n",
    "        if   arr[j][-1] <= splitPoint: \n",
    "            # increment index of smaller element \n",
    "            i = i+1 \n",
    "            arr[i],arr[j] = arr[j],arr[i] \n",
    "  \n",
    "    arr[i+1],arr[high] = arr[high],arr[i+1] \n",
    "    return (i+1) \n",
    "\n",
    "def quickSort(arr,low,high): \n",
    "    if low < high: \n",
    "  \n",
    "        splitIndex = split(arr,low,high) \n",
    "        quickSort(arr, low, splitIndex-1) \n",
    "        quickSort(arr, splitIndex, high) "
   ]
  },
  {
   "cell_type": "code",
   "execution_count": null,
   "metadata": {},
   "outputs": [],
   "source": [
    "quickSort(fantasyStats,0,len(fantasyStats)-1)\n",
    "fantasyStats.reverse()\n",
    "f = open(\"Stats.txt\", \"w\")\n",
    "f.write(str(fantasyStats))\n",
    "f.close()\n",
    "fantasyStats"
   ]
  },
  {
   "cell_type": "code",
   "execution_count": null,
   "metadata": {},
   "outputs": [],
   "source": [
    "pip install --upgrade firebase-admin"
   ]
  },
  {
   "cell_type": "code",
   "execution_count": null,
   "metadata": {},
   "outputs": [],
   "source": [
    "import firebase_admin\n",
    "from firebase_admin import credentials\n",
    "from firebase_admin import firestore\n",
    "\n",
    "# Use a service account\n",
    "if not firebase_admin._apps:\n",
    "    cred = credentials.Certificate(\"nbafantasystats-c91bc-firebase-adminsdk-fumaf-8ba51a7433.json\")\n",
    "    firebase_admin.initialize_app(cred)\n",
    "    db = firestore.client()"
   ]
  },
  {
   "cell_type": "code",
   "execution_count": null,
   "metadata": {},
   "outputs": [],
   "source": [
    "for player in fantasyStats:\n",
    "    doc_ref = db.collection(year).document(player[0].upper())\n",
    "    doc_ref.set({\n",
    "        u'Name': player[0],\n",
    "        u'Team': player[1],\n",
    "        u'GP': player[2],\n",
    "        u'PPG': player[3],\n",
    "        u'APG': player[4],\n",
    "        u'RPG': player[5],\n",
    "        u'SPG': player[6],\n",
    "        u'BPG': player[7],\n",
    "        u'TOPG': player[8],\n",
    "        u'FGPercent': player[9],\n",
    "        u'FTPercent': player[10],\n",
    "        u'ThreesPG': player[11],\n",
    "        u'FER': player[12],\n",
    "    })"
   ]
  }
 ],
 "metadata": {
  "kernelspec": {
   "display_name": "Python 3",
   "language": "python",
   "name": "python3"
  },
  "language_info": {
   "codemirror_mode": {
    "name": "ipython",
    "version": 3
   },
   "file_extension": ".py",
   "mimetype": "text/x-python",
   "name": "python",
   "nbconvert_exporter": "python",
   "pygments_lexer": "ipython3",
   "version": "3.7.6"
  }
 },
 "nbformat": 4,
 "nbformat_minor": 2
}
